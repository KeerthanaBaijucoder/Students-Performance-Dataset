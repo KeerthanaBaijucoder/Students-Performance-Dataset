{
 "cells": [
  {
   "cell_type": "code",
   "execution_count": 1,
   "id": "84edb681-385e-46a8-a104-21967c4bb4b6",
   "metadata": {},
   "outputs": [
    {
     "name": "stdout",
     "output_type": "stream",
     "text": [
      "<class 'pandas.core.frame.DataFrame'>\n",
      "RangeIndex: 10500 entries, 0 to 10499\n",
      "Data columns (total 15 columns):\n",
      " #   Column                       Non-Null Count  Dtype  \n",
      "---  ------                       --------------  -----  \n",
      " 0   Student_ID                   10500 non-null  object \n",
      " 1   Age                          10500 non-null  int64  \n",
      " 2   Gender                       10500 non-null  object \n",
      " 3   Study_Hours_Per_Week         10500 non-null  int64  \n",
      " 4   Attendance_Rate              10500 non-null  float64\n",
      " 5   Assignments_Submitted        10500 non-null  int64  \n",
      " 6   Course_Grade                 10500 non-null  object \n",
      " 7   Part_Time_Job                10500 non-null  object \n",
      " 8   Monthly_Income               10500 non-null  int64  \n",
      " 9   GPA                          10500 non-null  float64\n",
      " 10  Social_Media_Usage_Hours     10500 non-null  int64  \n",
      " 11  Extra_Curricular_Activities  10500 non-null  object \n",
      " 12  Internet_Access              10500 non-null  object \n",
      " 13  Parental_Education_Level     10500 non-null  object \n",
      " 14  Mode_of_Transport            10500 non-null  object \n",
      "dtypes: float64(2), int64(5), object(8)\n",
      "memory usage: 1.2+ MB\n"
     ]
    },
    {
     "data": {
      "text/plain": [
       "Student_ID                     0\n",
       "Age                            0\n",
       "Gender                         0\n",
       "Study_Hours_Per_Week           0\n",
       "Attendance_Rate                0\n",
       "Assignments_Submitted          0\n",
       "Course_Grade                   0\n",
       "Part_Time_Job                  0\n",
       "Monthly_Income                 0\n",
       "GPA                            0\n",
       "Social_Media_Usage_Hours       0\n",
       "Extra_Curricular_Activities    0\n",
       "Internet_Access                0\n",
       "Parental_Education_Level       0\n",
       "Mode_of_Transport              0\n",
       "dtype: int64"
      ]
     },
     "execution_count": 1,
     "metadata": {},
     "output_type": "execute_result"
    }
   ],
   "source": [
    "import pandas as pd\n",
    "import numpy as np\n",
    "\n",
    "\n",
    "df = pd.read_csv('student_performance_dataset.csv')\n",
    "df.head()\n",
    "\n",
    "df.info()\n",
    "df.describe()\n",
    "df.isnull().sum()"
   ]
  },
  {
   "cell_type": "code",
   "execution_count": 13,
   "id": "ab091f6b-aa41-4baa-8229-4d9bae474bc1",
   "metadata": {},
   "outputs": [
    {
     "name": "stdout",
     "output_type": "stream",
     "text": [
      "Index(['Student_ID', 'Age', 'Gender', 'Study_Hours_Per_Week',\n",
      "       'Attendance_Rate', 'Assignments_Submitted', 'Course_Grade',\n",
      "       'Part_Time_Job', 'Monthly_Income', 'GPA', 'Social_Media_Usage_Hours',\n",
      "       'Extra_Curricular_Activities', 'Internet_Access',\n",
      "       'Parental_Education_Level', 'Mode_of_Transport'],\n",
      "      dtype='object')\n"
     ]
    },
    {
     "data": {
      "text/plain": [
       "Course_Grade\n",
       "D    2151\n",
       "A    2127\n",
       "C    2095\n",
       "F    2070\n",
       "B    2057\n",
       "Name: count, dtype: int64"
      ]
     },
     "execution_count": 13,
     "metadata": {},
     "output_type": "execute_result"
    }
   ],
   "source": [
    "print(df.columns)\n",
    "df['Course_Grade'].value_counts()   "
   ]
  },
  {
   "cell_type": "code",
   "execution_count": 50,
   "id": "97740e70-e1cf-45b0-bf28-01289420cf06",
   "metadata": {},
   "outputs": [
    {
     "data": {
      "text/html": [
       "<div>\n",
       "<style scoped>\n",
       "    .dataframe tbody tr th:only-of-type {\n",
       "        vertical-align: middle;\n",
       "    }\n",
       "\n",
       "    .dataframe tbody tr th {\n",
       "        vertical-align: top;\n",
       "    }\n",
       "\n",
       "    .dataframe thead th {\n",
       "        text-align: right;\n",
       "    }\n",
       "</style>\n",
       "<table border=\"1\" class=\"dataframe\">\n",
       "  <thead>\n",
       "    <tr style=\"text-align: right;\">\n",
       "      <th></th>\n",
       "      <th>GPA</th>\n",
       "      <th>Study_Hours_Per_Week</th>\n",
       "      <th>Attendance_Rate</th>\n",
       "      <th>Assignments_Submitted</th>\n",
       "      <th>Monthly_Income</th>\n",
       "      <th>Age</th>\n",
       "    </tr>\n",
       "  </thead>\n",
       "  <tbody>\n",
       "    <tr>\n",
       "      <th>count</th>\n",
       "      <td>10500.000000</td>\n",
       "      <td>10500.000000</td>\n",
       "      <td>10500.000000</td>\n",
       "      <td>10500.000000</td>\n",
       "      <td>10500.000000</td>\n",
       "      <td>10500.000000</td>\n",
       "    </tr>\n",
       "    <tr>\n",
       "      <th>mean</th>\n",
       "      <td>3.002799</td>\n",
       "      <td>21.982952</td>\n",
       "      <td>0.750658</td>\n",
       "      <td>4.477714</td>\n",
       "      <td>10039.761429</td>\n",
       "      <td>21.018095</td>\n",
       "    </tr>\n",
       "    <tr>\n",
       "      <th>std</th>\n",
       "      <td>0.577169</td>\n",
       "      <td>10.098496</td>\n",
       "      <td>0.145063</td>\n",
       "      <td>2.887149</td>\n",
       "      <td>5771.402400</td>\n",
       "      <td>1.986538</td>\n",
       "    </tr>\n",
       "    <tr>\n",
       "      <th>min</th>\n",
       "      <td>2.000000</td>\n",
       "      <td>5.000000</td>\n",
       "      <td>0.500000</td>\n",
       "      <td>0.000000</td>\n",
       "      <td>3.000000</td>\n",
       "      <td>18.000000</td>\n",
       "    </tr>\n",
       "    <tr>\n",
       "      <th>25%</th>\n",
       "      <td>2.500000</td>\n",
       "      <td>13.000000</td>\n",
       "      <td>0.620000</td>\n",
       "      <td>2.000000</td>\n",
       "      <td>5107.000000</td>\n",
       "      <td>19.000000</td>\n",
       "    </tr>\n",
       "    <tr>\n",
       "      <th>50%</th>\n",
       "      <td>3.000000</td>\n",
       "      <td>22.000000</td>\n",
       "      <td>0.750000</td>\n",
       "      <td>4.000000</td>\n",
       "      <td>10093.000000</td>\n",
       "      <td>21.000000</td>\n",
       "    </tr>\n",
       "    <tr>\n",
       "      <th>75%</th>\n",
       "      <td>3.500000</td>\n",
       "      <td>31.000000</td>\n",
       "      <td>0.880000</td>\n",
       "      <td>7.000000</td>\n",
       "      <td>15085.250000</td>\n",
       "      <td>23.000000</td>\n",
       "    </tr>\n",
       "    <tr>\n",
       "      <th>max</th>\n",
       "      <td>4.000000</td>\n",
       "      <td>39.000000</td>\n",
       "      <td>1.000000</td>\n",
       "      <td>9.000000</td>\n",
       "      <td>19998.000000</td>\n",
       "      <td>24.000000</td>\n",
       "    </tr>\n",
       "  </tbody>\n",
       "</table>\n",
       "</div>"
      ],
      "text/plain": [
       "                GPA  Study_Hours_Per_Week  Attendance_Rate  \\\n",
       "count  10500.000000          10500.000000     10500.000000   \n",
       "mean       3.002799             21.982952         0.750658   \n",
       "std        0.577169             10.098496         0.145063   \n",
       "min        2.000000              5.000000         0.500000   \n",
       "25%        2.500000             13.000000         0.620000   \n",
       "50%        3.000000             22.000000         0.750000   \n",
       "75%        3.500000             31.000000         0.880000   \n",
       "max        4.000000             39.000000         1.000000   \n",
       "\n",
       "       Assignments_Submitted  Monthly_Income           Age  \n",
       "count           10500.000000    10500.000000  10500.000000  \n",
       "mean                4.477714    10039.761429     21.018095  \n",
       "std                 2.887149     5771.402400      1.986538  \n",
       "min                 0.000000        3.000000     18.000000  \n",
       "25%                 2.000000     5107.000000     19.000000  \n",
       "50%                 4.000000    10093.000000     21.000000  \n",
       "75%                 7.000000    15085.250000     23.000000  \n",
       "max                 9.000000    19998.000000     24.000000  "
      ]
     },
     "execution_count": 50,
     "metadata": {},
     "output_type": "execute_result"
    }
   ],
   "source": [
    "df[['GPA','Study_Hours_Per_Week','Attendance_Rate','Assignments_Submitted','Monthly_Income','Age']].describe()\n"
   ]
  },
  {
   "cell_type": "code",
   "execution_count": 17,
   "id": "ec58cf91-9d79-422a-b8d3-b98bc1c1e576",
   "metadata": {},
   "outputs": [
    {
     "name": "stdout",
     "output_type": "stream",
     "text": [
      "Original count: 10500\n",
      "After IQR cleaning: 10500\n"
     ]
    }
   ],
   "source": [
    "Q1 = df['GPA'].quantile(0.25)\n",
    "Q3 = df['GPA'].quantile(0.75)\n",
    "IQR = Q3 - Q1\n",
    "\n",
    "#lower and upper bounds\n",
    "lower_bound = Q1 - 1.5 * IQR\n",
    "upper_bound = Q3 + 1.5 * IQR\n",
    "\n",
    "# Filter out outliers\n",
    "df_iqr_cleaned = df[(df['GPA'] >= lower_bound) & (df['GPA'] <= upper_bound)]\n",
    "\n",
    "print(\"Original count:\", len(df))\n",
    "print(\"After IQR cleaning:\", len(df_iqr_cleaned))"
   ]
  },
  {
   "cell_type": "code",
   "execution_count": 19,
   "id": "89f107a9-07c9-4043-a274-049de78b8deb",
   "metadata": {},
   "outputs": [
    {
     "name": "stdout",
     "output_type": "stream",
     "text": [
      "After Z-score cleaning: 10500\n"
     ]
    }
   ],
   "source": [
    "from scipy import stats\n",
    "\n",
    "z_scores = stats.zscore(df['GPA'])\n",
    "abs_z_scores = np.abs(z_scores)\n",
    "\n",
    "df_z_cleaned = df[abs_z_scores < 3]\n",
    "\n",
    "print(\"After Z-score cleaning:\", len(df_z_cleaned))"
   ]
  },
  {
   "cell_type": "code",
   "execution_count": 26,
   "id": "c458e0a2-f166-4db5-b040-3c342ce7ea54",
   "metadata": {},
   "outputs": [],
   "source": [
    "# print(\"IQR method removed:\", len(df) - len(df_iqr_cleaned), \"rows\")\n",
    "# print(\"Z-score method removed:\", len(df) - len(df_z_cleaned), \"rows\")"
   ]
  },
  {
   "cell_type": "code",
   "execution_count": 54,
   "id": "0664d1b9-558e-4f19-bafb-ec8a1a1d469b",
   "metadata": {},
   "outputs": [],
   "source": [
    "# import seaborn as sns\n",
    "# import matplotlib.pyplot as plt\n",
    "\n",
    "# plt.figure(figsize=(10, 4))\n",
    "# sns.boxplot(x=df['GPA')\n",
    "# plt.title('Boxplot Before Cleaning')\n",
    "# plt.show()"
   ]
  },
  {
   "cell_type": "code",
   "execution_count": 88,
   "id": "9f60240c-1f23-4774-ba36-71fcd0fb52b4",
   "metadata": {},
   "outputs": [
    {
     "name": "stdout",
     "output_type": "stream",
     "text": [
      "\n",
      " Z-Score Outlier Detection Summary:\n",
      "GPA: 0 outliers out of 10500 (0.0%)\n",
      "Social_Media_Usage_Hours: 0 outliers out of 10500 (0.0%)\n",
      "Study_Hours_Per_Week: 0 outliers out of 10500 (0.0%)\n",
      "Monthly_Income: 0 outliers out of 10500 (0.0%)\n",
      "Age: 0 outliers out of 10500 (0.0%)\n",
      "Attendance_Rate: 0 outliers out of 10500 (0.0%)\n"
     ]
    },
    {
     "data": {
      "image/png": "[encoded data removed]",
      "text/plain": [
       "<Figure size 1400x800 with 6 Axes>"
      ]
     },
     "metadata": {},
     "output_type": "display_data"
    }
   ],
   "source": [
    "from scipy.stats import zscore\n",
    "import pandas as pd\n",
    "import numpy as np\n",
    "import seaborn as sns\n",
    "import matplotlib.pyplot as plt\n",
    "\n",
    "\n",
    "numerical_cols = ['GPA', 'Social_Media_Usage_Hours', 'Study_Hours_Per_Week', 'Monthly_Income','Age','Attendance_Rate']\n",
    "\n",
    "z_outlier_summary = {}\n",
    "\n",
    "\n",
    "threshold = 3\n",
    "\n",
    "for col in numerical_cols:\n",
    "    \n",
    "    col_data = df[col].dropna()\n",
    "    z_scores = zscore(col_data)\n",
    "    abs_z = np.abs(z_scores)\n",
    "\n",
    "    outlier_count = np.sum(abs_z > threshold)\n",
    "\n",
    "    z_outlier_summary[col] = {\n",
    "        'outliers': int(outlier_count),\n",
    "        'total_values': len(col_data),\n",
    "        'percent_outliers': round((outlier_count / len(col_data)) * 100, 2)\n",
    "    }\n",
    "\n",
    "print(\"\\n Z-Score Outlier Detection Summary:\")\n",
    "for col, stats in z_outlier_summary.items():\n",
    "    print(f\"{col}: {stats['outliers']} outliers \"\n",
    "          f\"out of {stats['total_values']} \"\n",
    "          f\"({stats['percent_outliers']}%)\")\n",
    "\n",
    "# Plot boxplots \n",
    "plt.figure(figsize=(14, 8))\n",
    "for i, col in enumerate(numerical_cols, 1):\n",
    "    plt.subplot(2, 3, i)\n",
    "    sns.boxplot(y=df[col])\n",
    "    plt.title(f\"{col} \")\n",
    "plt.tight_layout()\n",
    "plt.show()"
   ]
  },
  {
   "cell_type": "code",
   "execution_count": 68,
   "id": "e0315e67-c67c-41c6-8911-807ad8af5044",
   "metadata": {},
   "outputs": [
    {
     "name": "stdout",
     "output_type": "stream",
     "text": [
      "Z-score Outliers Summary: {'GPA': {'count': 0, 'threshold': 3}, 'Social_Media_Usage_Hours': {'count': 0, 'threshold': 3}, 'Study_Hours_Per_Week': {'count': 0, 'threshold': 3}, 'Monthly_Income': {'count': 0, 'threshold': 3}, 'Age': {'count': 0, 'threshold': 3}, 'Attendance_Rate': {'count': 0, 'threshold': 3}, 'Assignments_Submitted': {'count': 0, 'threshold': 3}}\n"
     ]
    }
   ],
   "source": [
    "outliers_zscore = {}\n",
    "for col in numerical_cols:\n",
    "    z_scores = np.abs((df[col] - df[col].mean()) / df[col].std())\n",
    "    outliers = df[z_scores > 3][col]\n",
    "    outliers_zscore[col] = {'count': len(outliers), 'threshold': 3}\n",
    "print(\"Z-score Outliers Summary:\", outliers_zscore)"
   ]
  },
  {
   "cell_type": "code",
   "execution_count": 70,
   "id": "81dd78a2-9666-4b97-b09b-282292c7c03c",
   "metadata": {},
   "outputs": [
    {
     "name": "stdout",
     "output_type": "stream",
     "text": [
      "IQR Capped Summary:\n",
      "                 GPA  Social_Media_Usage_Hours  Study_Hours_Per_Week  \\\n",
      "count  10500.000000              10500.000000          10500.000000   \n",
      "mean       3.002799                  9.493905             21.982952   \n",
      "std        0.577169                  5.765248             10.098496   \n",
      "min        2.000000                  0.000000              5.000000   \n",
      "25%        2.500000                  4.000000             13.000000   \n",
      "50%        3.000000                  9.000000             22.000000   \n",
      "75%        3.500000                 14.000000             31.000000   \n",
      "max        4.000000                 19.000000             39.000000   \n",
      "\n",
      "       Monthly_Income           Age  Attendance_Rate  Assignments_Submitted  \n",
      "count    10500.000000  10500.000000     10500.000000           10500.000000  \n",
      "mean     10039.761429     21.018095         0.750658               4.477714  \n",
      "std       5771.402400      1.986538         0.145063               2.887149  \n",
      "min          3.000000     18.000000         0.500000               0.000000  \n",
      "25%       5107.000000     19.000000         0.620000               2.000000  \n",
      "50%      10093.000000     21.000000         0.750000               4.000000  \n",
      "75%      15085.250000     23.000000         0.880000               7.000000  \n",
      "max      19998.000000     24.000000         1.000000               9.000000  \n"
     ]
    }
   ],
   "source": [
    "main_df_iqr = df.copy()\n",
    "\n",
    "for col in numerical_cols:\n",
    "    Q1 = main_df_iqr[col].quantile(0.25)\n",
    "    Q3 = main_df_iqr[col].quantile(0.75)\n",
    "    IQR = Q3 - Q1\n",
    "    lower_bound = Q1 - 1.5 * IQR\n",
    "    upper_bound = Q3 + 1.5 * IQR\n",
    "    main_df_iqr[col] = main_df_iqr[col].clip(lower=lower_bound, upper=upper_bound)\n",
    "print(\"IQR Capped Summary:\\n\", main_df_iqr[numerical_cols].describe())"
   ]
  },
  {
   "cell_type": "code",
   "execution_count": 72,
   "id": "cdc409fd-25ec-4997-ad7f-cd9d032249df",
   "metadata": {},
   "outputs": [
    {
     "name": "stdout",
     "output_type": "stream",
     "text": [
      "Z-score Clipped Summary:\n",
      "                 GPA  Social_Media_Usage_Hours  Study_Hours_Per_Week  \\\n",
      "count  10500.000000              10500.000000          10500.000000   \n",
      "mean       3.002799                  9.493905             21.982952   \n",
      "std        0.577169                  5.765248             10.098496   \n",
      "min        2.000000                  0.000000              5.000000   \n",
      "25%        2.500000                  4.000000             13.000000   \n",
      "50%        3.000000                  9.000000             22.000000   \n",
      "75%        3.500000                 14.000000             31.000000   \n",
      "max        4.000000                 19.000000             39.000000   \n",
      "\n",
      "       Monthly_Income           Age  Attendance_Rate  Assignments_Submitted  \n",
      "count    10500.000000  10500.000000     10500.000000           10500.000000  \n",
      "mean     10039.761429     21.018095         0.750658               4.477714  \n",
      "std       5771.402400      1.986538         0.145063               2.887149  \n",
      "min          3.000000     18.000000         0.500000               0.000000  \n",
      "25%       5107.000000     19.000000         0.620000               2.000000  \n",
      "50%      10093.000000     21.000000         0.750000               4.000000  \n",
      "75%      15085.250000     23.000000         0.880000               7.000000  \n",
      "max      19998.000000     24.000000         1.000000               9.000000  \n"
     ]
    }
   ],
   "source": [
    "main_df_zscore = df.copy()\n",
    "\n",
    "for col in numerical_cols:\n",
    "    mean = main_df_zscore[col].mean()\n",
    "    std = main_df_zscore[col].std()\n",
    "    lower_bound = mean - 3 * std\n",
    "    upper_bound = mean + 3 * std\n",
    "    main_df_zscore[col] = main_df_zscore[col].clip(lower=lower_bound, upper=upper_bound)\n",
    "print(\"Z-score Clipped Summary:\\n\", main_df_zscore[numerical_cols].describe())"
   ]
  },
  {
   "cell_type": "code",
   "execution_count": 74,
   "id": "a1014a6d-31ca-4e18-84da-bfa601aab813",
   "metadata": {},
   "outputs": [],
   "source": [
    "main_df= main_df_iqr"
   ]
  },
  {
   "cell_type": "code",
   "execution_count": null,
   "id": "fbe0a8a3-6e60-4f3d-b8be-9128aaa4c81d",
   "metadata": {},
   "outputs": [],
   "source": []
  }
 ],
 "metadata": {
  "kernelspec": {
   "display_name": "Python [conda env:base] *",
   "language": "python",
   "name": "conda-base-py"
  },
  "language_info": {
   "codemirror_mode": {
    "name": "ipython",
    "version": 3
   },
   "file_extension": ".py",
   "mimetype": "text/x-python",
   "name": "python",
   "nbconvert_exporter": "python",
   "pygments_lexer": "ipython3",
   "version": "3.12.7"
  }
 },
 "nbformat": 4,
 "nbformat_minor": 5
}
